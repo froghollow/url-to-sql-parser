{
 "cells": [
  {
   "cell_type": "markdown",
   "id": "a3ee0d67-a6d2-4933-b5ae-99ffd9dab655",
   "metadata": {
    "tags": []
   },
   "source": [
    "# URL to SQL Notebook\n",
    "This notebook contains examples of composing an SQL string by parsing URL Parameters, following specifications similar to those implemented on Treasury's FiscalData web site.\n",
    "\n",
    "https://fiscaldata.treasury.gov/api-documentation/#parameters\n",
    "\n"
   ]
  },
  {
   "cell_type": "code",
   "execution_count": 1,
   "id": "7e4e5a45-2319-4281-a2ac-d4d38b5dd274",
   "metadata": {},
   "outputs": [],
   "source": [
    "## Initialize\n",
    "import sys\n",
    "if './python' not in sys.path: sys.path.append('./python')\n",
    "\n",
    "from url_to_sql import url_to_sql\n"
   ]
  },
  {
   "cell_type": "markdown",
   "id": "4df0139b-535b-4fe6-8b6b-9b42a56f4de7",
   "metadata": {
    "tags": []
   },
   "source": [
    "## Fields\n",
    "Parameter: fields=\n",
    "\n",
    "Definition: The [fields](https://fiscaldata.treasury.gov/api-documentation/#fields) parameter allows you to select which field(s) should be included in the response."
   ]
  },
  {
   "cell_type": "code",
   "execution_count": 2,
   "id": "59b9e26d-f04a-42b7-be1c-fa660310f909",
   "metadata": {},
   "outputs": [
    {
     "name": "stdout",
     "output_type": "stream",
     "text": [
      "{\n",
      "  \"UrlInput\": \"https://api.fiscaldata.treasury.gov/services/api/fiscal_service/v1/accounting/od/rates_of_exchange?fields=country_currency_desc,exchange_rate,record_date\",\n",
      "  \"BaseUrl\": \"https://api.fiscaldata.treasury.gov\",\n",
      "  \"Endpoint\": \"/services/api/fiscal_service/v1/accounting/od/rates_of_exchange\",\n",
      "  \"TableName\": \"rates_of_exchange\",\n",
      "  \"ColumnList\": \"country_currency_desc,exchange_rate,record_date\",\n",
      "  \"FilterSpec\": \"\",\n",
      "  \"SortSpec\": \"\",\n",
      "  \"PageSize\": 100,\n",
      "  \"PageNumber\": 1,\n",
      "  \"Offset\": 0,\n",
      "  \"Format\": \"json\",\n",
      "  \"SQL\": \"  select country_currency_desc,exchange_rate,record_date \\n    from rates_of_exchange \\n   limit 100 offset 0 \\n\"\n",
      "}\n",
      "  select country_currency_desc,exchange_rate,record_date \n",
      "    from rates_of_exchange \n",
      "   limit 100 offset 0 \n",
      "\n"
     ]
    }
   ],
   "source": [
    "## Fields example\n",
    "url_input = 'https://api.fiscaldata.treasury.gov/services/api/fiscal_service/v1/accounting/od/rates_of_exchange?fields=country_currency_desc,exchange_rate,record_date'\n",
    "\n",
    "parsed_url = url_to_sql(url_input)\n",
    "print(parsed_url['SQL'])\n"
   ]
  },
  {
   "cell_type": "markdown",
   "id": "665b4e49-1506-4171-b48f-338b83f22dcd",
   "metadata": {
    "tags": []
   },
   "source": [
    "## Filters\n",
    "Parameter: filter=\n",
    "\n",
    "Definition: [Filters](https://fiscaldata.treasury.gov/api-documentation/#filters) are used to view a subset of the data based on specific criteria. For example, you may want to find data that falls within a certain date range, or only show records which contain a value larger than a certain threshold."
   ]
  },
  {
   "cell_type": "code",
   "execution_count": 3,
   "id": "279de21e-cd4a-4209-aca9-1a7bdfc0d7dc",
   "metadata": {},
   "outputs": [
    {
     "name": "stdout",
     "output_type": "stream",
     "text": [
      "{\n",
      "  \"UrlInput\": \"https://api.fiscaldata.treasury.gov/services/api/fiscal_service/v1/accounting/od/rates_of_exchange?fields=country_currency_desc,exchange_rate,record_date&filter=country_currency_desc:in:(Canada-Dollar,Mexico-Peso),record_date:gte:2020-01-01\",\n",
      "  \"BaseUrl\": \"https://api.fiscaldata.treasury.gov\",\n",
      "  \"Endpoint\": \"/services/api/fiscal_service/v1/accounting/od/rates_of_exchange\",\n",
      "  \"TableName\": \"rates_of_exchange\",\n",
      "  \"ColumnList\": \"country_currency_desc,exchange_rate,record_date\",\n",
      "  \"FilterSpec\": \"country_currency_desc in (Canada-Dollar,Mexico-Peso) and record_date >= 2020-01-01\",\n",
      "  \"SortSpec\": \"\",\n",
      "  \"PageSize\": 100,\n",
      "  \"PageNumber\": 1,\n",
      "  \"Offset\": 0,\n",
      "  \"Format\": \"json\",\n",
      "  \"SQL\": \"  select country_currency_desc,exchange_rate,record_date \\n    from rates_of_exchange \\n   where country_currency_desc in (Canada-Dollar,Mexico-Peso) and record_date >= 2020-01-01 \\n   limit 100 offset 0 \\n\"\n",
      "}\n",
      "  select country_currency_desc,exchange_rate,record_date \n",
      "    from rates_of_exchange \n",
      "   where country_currency_desc in (Canada-Dollar,Mexico-Peso) and record_date >= 2020-01-01 \n",
      "   limit 100 offset 0 \n",
      "\n"
     ]
    }
   ],
   "source": [
    "## Filters example\n",
    "url_input = 'https://api.fiscaldata.treasury.gov/services/api/fiscal_service/v1/accounting/od/rates_of_exchange?fields=country_currency_desc,exchange_rate,record_date&filter=country_currency_desc:in:(Canada-Dollar,Mexico-Peso),record_date:gte:2020-01-01'\n",
    "\n",
    "parsed_url = url_to_sql(url_input)\n",
    "print(parsed_url['SQL'])\n"
   ]
  },
  {
   "cell_type": "markdown",
   "id": "35a3d3f7-aad2-4b87-8e64-75f079816cb5",
   "metadata": {},
   "source": [
    "## Sorting example\n",
    "\n",
    "Parameter: sort=\n",
    "\n",
    "Definition: The [sort](https://fiscaldata.treasury.gov/api-documentation/#parameters-sorting) parameter allows a user to sort a field in ascending (least to greatest) or descending (greatest to least) order."
   ]
  },
  {
   "cell_type": "code",
   "execution_count": 4,
   "id": "55e664d6-97d7-4f02-956e-eb015a6a55bc",
   "metadata": {},
   "outputs": [
    {
     "name": "stdout",
     "output_type": "stream",
     "text": [
      "{\n",
      "  \"UrlInput\": \"https://api.fiscaldata.treasury.gov/services/api/fiscal_service/v2/accounting/od/debt_to_penny?fields=record_calendar_year,record_calendar_month&sort=-record_calendar_year,-record_calendar_month\",\n",
      "  \"BaseUrl\": \"https://api.fiscaldata.treasury.gov\",\n",
      "  \"Endpoint\": \"/services/api/fiscal_service/v2/accounting/od/debt_to_penny\",\n",
      "  \"TableName\": \"debt_to_penny\",\n",
      "  \"ColumnList\": \"record_calendar_year,record_calendar_month\",\n",
      "  \"FilterSpec\": \"\",\n",
      "  \"SortSpec\": \"record_calendar_year desc,record_calendar_month desc\",\n",
      "  \"PageSize\": 100,\n",
      "  \"PageNumber\": 1,\n",
      "  \"Offset\": 0,\n",
      "  \"Format\": \"json\",\n",
      "  \"SQL\": \"  select record_calendar_year,record_calendar_month \\n    from debt_to_penny \\norder by record_calendar_year desc,record_calendar_month desc \\n   limit 100 offset 0 \\n\"\n",
      "}\n",
      "  select record_calendar_year,record_calendar_month \n",
      "    from debt_to_penny \n",
      "order by record_calendar_year desc,record_calendar_month desc \n",
      "   limit 100 offset 0 \n",
      "\n"
     ]
    }
   ],
   "source": [
    "url_input = 'https://api.fiscaldata.treasury.gov/services/api/fiscal_service/v2/accounting/od/debt_to_penny?fields=record_calendar_year,record_calendar_month&sort=-record_calendar_year,-record_calendar_month'\n",
    "\n",
    "parsed_url = url_to_sql(url_input)\n",
    "print(parsed_url['SQL'])\n"
   ]
  },
  {
   "cell_type": "markdown",
   "id": "d0332f6c-3172-47ea-ae1d-898e67e6ccae",
   "metadata": {},
   "source": [
    "## Pagination example\n",
    "\n",
    "Parameter: page[size]= and page[number]=\n",
    "\n",
    "Definition: The [page size](https://fiscaldata.treasury.gov/api-documentation/#parameters-pagination) will set the number of rows that are returned on a request, and page number will set the index for the pagination, starting at 1. This allows the user to paginate through the records returned from an API request."
   ]
  },
  {
   "cell_type": "code",
   "execution_count": 5,
   "id": "20d67fd2-4694-4bb9-ad36-3826a5b3b8c6",
   "metadata": {},
   "outputs": [
    {
     "name": "stdout",
     "output_type": "stream",
     "text": [
      "{\n",
      "  \"UrlInput\": \"https://api.fiscaldata.treasury.gov/services/api/fiscal_service/v1/debt/top/top_state?page[number]=10&page[size]=50\",\n",
      "  \"BaseUrl\": \"https://api.fiscaldata.treasury.gov\",\n",
      "  \"Endpoint\": \"/services/api/fiscal_service/v1/debt/top/top_state\",\n",
      "  \"TableName\": \"top_state\",\n",
      "  \"ColumnList\": \"*\",\n",
      "  \"FilterSpec\": \"\",\n",
      "  \"SortSpec\": \"\",\n",
      "  \"PageSize\": 50,\n",
      "  \"PageNumber\": 10,\n",
      "  \"Offset\": 900,\n",
      "  \"Format\": \"json\",\n",
      "  \"SQL\": \"  select * \\n    from top_state \\n   limit 50 offset 900 \\n\"\n",
      "}\n",
      "  select * \n",
      "    from top_state \n",
      "   limit 50 offset 900 \n",
      "\n"
     ]
    }
   ],
   "source": [
    "url_input = 'https://api.fiscaldata.treasury.gov/services/api/fiscal_service/v1/debt/top/top_state?page[number]=10&page[size]=50'\n",
    "\n",
    "parsed_url = url_to_sql(url_input)\n",
    "print(parsed_url['SQL'])\n"
   ]
  }
 ],
 "metadata": {
  "kernelspec": {
   "display_name": "Python 3",
   "language": "python",
   "name": "python3"
  },
  "language_info": {
   "codemirror_mode": {
    "name": "ipython",
    "version": 3
   },
   "file_extension": ".py",
   "mimetype": "text/x-python",
   "name": "python",
   "nbconvert_exporter": "python",
   "pygments_lexer": "ipython3",
   "version": "3.8.2"
  }
 },
 "nbformat": 4,
 "nbformat_minor": 5
}
